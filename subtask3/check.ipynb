{
 "cells": [
  {
   "cell_type": "code",
   "execution_count": 1,
   "metadata": {},
   "outputs": [],
   "source": [
    "from utils.load import MetaLoader, TrainLoader\n",
    "from utils.preprocess import Preprocessor, Augmentation\n",
    "from utils.encoder import Encoder\n",
    "\n",
    "from net.tokenizer import SubWordEmbReaderUtil\n",
    "from net.model import Model"
   ]
  },
  {
   "cell_type": "code",
   "execution_count": 2,
   "metadata": {},
   "outputs": [
    {
     "name": "stdout",
     "output_type": "stream",
     "text": [
      "\n",
      "<Initialize subword embedding>\n",
      "loading= ./sstm_v0p5_deploy/sstm_v4p49_np_n36134_d128.dat\n"
     ]
    }
   ],
   "source": [
    "swer_path = './sstm_v0p5_deploy/sstm_v4p49_np_n36134_d128.dat'\n",
    "swer = SubWordEmbReaderUtil(swer_path)\n",
    "\n",
    "meta_path = '../../datasets/FH_2024/subtask3/mdata.wst.txt.2023.08.23'\n",
    "meta_loader = MetaLoader(path=meta_path, swer=swer)\n",
    "img2id, id2img, img_similarity = meta_loader.get_dataset()"
   ]
  },
  {
   "cell_type": "code",
   "execution_count": 3,
   "metadata": {},
   "outputs": [],
   "source": [
    "train_path = \"../../datasets/FH_2024/subtask3/task1.ddata.wst.txt\"\n",
    "train_loader = TrainLoader(path=train_path)\n",
    "train_dataset = train_loader.get_dataset()"
   ]
  },
  {
   "cell_type": "code",
   "execution_count": 4,
   "metadata": {},
   "outputs": [],
   "source": [
    "preprocessor = Preprocessor(num_rank=3, num_coordi=4, top_k=50)\n",
    "train_dataset = preprocessor(train_dataset, img2id, id2img, img_similarity)"
   ]
  },
  {
   "cell_type": "code",
   "execution_count": 5,
   "metadata": {},
   "outputs": [],
   "source": [
    "augmentation = Augmentation(num_aug=5, num_rank=3, num_coordi=4, top_k=50)\n",
    "train_dataset = augmentation(train_dataset, img2id, id2img, img_similarity)"
   ]
  },
  {
   "cell_type": "code",
   "execution_count": 6,
   "metadata": {},
   "outputs": [
    {
     "ename": "NameError",
     "evalue": "name 'embed' is not defined",
     "output_type": "error",
     "traceback": [
      "\u001b[0;31m---------------------------------------------------------------------------\u001b[0m",
      "\u001b[0;31mNameError\u001b[0m                                 Traceback (most recent call last)",
      "Cell \u001b[0;32mIn[6], line 2\u001b[0m\n\u001b[1;32m      1\u001b[0m encoder \u001b[38;5;241m=\u001b[39m Encoder(swer\u001b[38;5;241m=\u001b[39mswer, img2id\u001b[38;5;241m=\u001b[39mimg2id, num_coordi\u001b[38;5;241m=\u001b[39m\u001b[38;5;241m4\u001b[39m, mem_size\u001b[38;5;241m=\u001b[39m\u001b[38;5;241m16\u001b[39m)\n\u001b[0;32m----> 2\u001b[0m encoded_dataset \u001b[38;5;241m=\u001b[39m \u001b[43mencoder\u001b[49m\u001b[43m(\u001b[49m\u001b[43mtrain_dataset\u001b[49m\u001b[43m)\u001b[49m\n",
      "File \u001b[0;32m~/workspace/FH_2024/subtask3/utils/encoder.py:21\u001b[0m, in \u001b[0;36mEncoder.__call__\u001b[0;34m(self, dataset)\u001b[0m\n\u001b[1;32m     19\u001b[0m     encoded_desc \u001b[38;5;241m=\u001b[39m encoded_desc[:\u001b[38;5;28mself\u001b[39m\u001b[38;5;241m.\u001b[39mmem_size]\n\u001b[1;32m     20\u001b[0m \u001b[38;5;28;01melse\u001b[39;00m:\n\u001b[0;32m---> 21\u001b[0m     encoded_desc \u001b[38;5;241m=\u001b[39m [np\u001b[38;5;241m.\u001b[39mzeros(\u001b[38;5;28mself\u001b[39m\u001b[38;5;241m.\u001b[39mswer\u001b[38;5;241m.\u001b[39mget_emb_size())\u001b[38;5;241m.\u001b[39mtolist() \u001b[38;5;28;01mfor\u001b[39;00m _ \u001b[38;5;129;01min\u001b[39;00m \u001b[38;5;28mrange\u001b[39m(\u001b[38;5;28mself\u001b[39m\u001b[38;5;241m.\u001b[39mmem_size \u001b[38;5;241m-\u001b[39m \u001b[38;5;28mlen\u001b[39m(encoded_desc))] \u001b[38;5;241m+\u001b[39m \u001b[43membed\u001b[49m\n\u001b[1;32m     23\u001b[0m \u001b[38;5;66;03m# 추천 코디를 인덱스 형태로 변환\u001b[39;00m\n\u001b[1;32m     24\u001b[0m coordi \u001b[38;5;241m=\u001b[39m data[\u001b[38;5;124m\"\u001b[39m\u001b[38;5;124mcoordi\u001b[39m\u001b[38;5;124m\"\u001b[39m]\n",
      "\u001b[0;31mNameError\u001b[0m: name 'embed' is not defined"
     ]
    }
   ],
   "source": [
    "encoder = Encoder(swer=swer, img2id=img2id, num_coordi=4, mem_size=16)\n",
    "encoded_dataset = encoder(train_dataset)"
   ]
  },
  {
   "cell_type": "code",
   "execution_count": null,
   "metadata": {},
   "outputs": [],
   "source": []
  }
 ],
 "metadata": {
  "kernelspec": {
   "display_name": "Python 3",
   "language": "python",
   "name": "python3"
  },
  "language_info": {
   "codemirror_mode": {
    "name": "ipython",
    "version": 3
   },
   "file_extension": ".py",
   "mimetype": "text/x-python",
   "name": "python",
   "nbconvert_exporter": "python",
   "pygments_lexer": "ipython3",
   "version": "3.8.10"
  }
 },
 "nbformat": 4,
 "nbformat_minor": 2
}
